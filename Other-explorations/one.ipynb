{
 "cells": [
  {
   "cell_type": "markdown",
   "metadata": {},
   "source": [
    "Firstly i want to start by compiling my data and listing out all the feature encodings i want to do"
   ]
  },
  {
   "cell_type": "code",
   "execution_count": 3,
   "metadata": {},
   "outputs": [
    {
     "name": "stdout",
     "output_type": "stream",
     "text": [
      "[140, 302]\n",
      "Number of 1s (umami): 140\n",
      "Number of 0s (bitter): 302\n"
     ]
    },
    {
     "data": {
      "image/png": "[encoded data removed]",
      "text/plain": [
       "<Figure size 640x480 with 1 Axes>"
      ]
     },
     "metadata": {},
     "output_type": "display_data"
    }
   ],
   "source": [
    "#open csv file and visualise the data\n",
    "import csv\n",
    "import matplotlib.pyplot as plt\n",
    "import numpy as np\n",
    "\n",
    "#open the csv file\n",
    "with open('merged_data_modified.csv') as f:\n",
    "    #read the csv file\n",
    "    reader = csv.reader(f)\n",
    "    count1=0\n",
    "    count2=0\n",
    "    protein_seq = []\n",
    "    for row in reader:\n",
    "        #count the number of rows\n",
    "        if row[0] == '1':\n",
    "            count1+=1\n",
    "        if row[0] == '0':\n",
    "            count2+=1\n",
    "        protein_seq.append(row[1])\n",
    "    protein_seq = protein_seq[1:]\n",
    "    plot = [count1,count2]\n",
    "    print(plot)\n",
    "    #plot the data\n",
    "    plt.bar(['1','0'],plot)\n",
    "    plt.title('Number of 1s and 0s in the dataset')\n",
    "    print('Number of 1s (umami):',count1)\n",
    "    print('Number of 0s (bitter):',count2)\n",
    "\n"
   ]
  },
  {
   "cell_type": "code",
   "execution_count": 4,
   "metadata": {},
   "outputs": [
    {
     "name": "stdout",
     "output_type": "stream",
     "text": [
      "['RKE', 'VAV', 'KGDEESLA', 'SAEQK', 'CM', 'DG', 'DE', 'EEL', 'LVG', 'SLAKGDEE', 'DD', 'VGG', 'EEE', 'LSERYP', 'GCG', 'AHSVRFY', 'EEEQ', 'YGGTPPFV', 'EN', 'LPEEV', 'ASNMSDL', 'EINEL', 'EE', 'SE', 'GDG', 'VDV', 'PVARMCR', 'VTADESQQDVLK', 'VV', 'DPQ', 'EQEEL', 'HCHTN', 'VVGET', 'NVVGET', 'ENINEL', 'SF', 'LV', 'DEE', 'EA', 'INEL', 'SEE', 'AQALQAQA', 'LQPLNAH', 'KGRYER', 'GLLPDGTPR', 'DES', 'PDKPNT', 'EGS', 'EP', 'CCNKSV', 'LGAGGSLA', 'QVAIAHRDAK', 'DQR', 'ALPEEV', 'GGY', 'EQQQQ', 'VE', 'SPE', 'ET', 'ENE', 'VD', 'PET', 'KGNEESLA', 'EDV', 'DA', 'ANPGPVRDLR', 'QL', 'RGENESDEQGAIVT', 'EG', 'AE', 'NNP', 'VRSY', 'LDL', 'RPNPFENR', 'NGKET', 'EK', 'SSRNEQSR', 'EQE', 'RGENESEEEGAIVT', 'DDD', 'EGSEAPDGSSR', 'NRTF', 'PE', 'NY', 'KGSLADEE', 'VPY', 'EL', 'EY', 'RPLGNC', 'VLPTDQNFILR', 'DDE', 'VEV', 'RL', 'SLADEEKG', 'ADE', 'KG', 'EDD', 'ADA', 'EDF', 'TE', 'QEEL', 'ES', 'GEG', 'PAA', 'EDE', 'EEDGK', 'AD', 'VDR', 'DDDD', 'GE', 'ED', 'TLRRCM', 'EQPQQNE', 'QDKIHPFAQTQSLVYPFPGP', 'GRP', 'FGG', 'LAGNQEEE', 'APK', 'KPF', 'GGLGG', 'PGI', 'AF', 'YY', 'IG', 'FGGF', 'RPGFF', 'FGF', 'QSKVLPVPQ', 'GNPDIEHP', 'VYPFPPGIGG', 'GF', 'IV', 'RG', 'FLL', 'GPPF', 'FYPELF', 'KLHENIAR', 'GPG', 'LA', 'YYY', 'LGGGG', 'GGP', 'YL', 'QLFGPNVNPWHNP', 'RGPPFFF', 'RGPPF', 'VIFPPGR', 'PK', 'YGG', 'VVVPPFLQP', 'VL', 'YPFPGPIHNS', 'GGRPFF', 'YQEPVLGPVRGPFPI', 'PFPGPIP', 'PPF', 'AQTQSLVYPFPGPIPNSLPQNIPPLTQ', 'RRPPPFFF', 'RGPGPIIV', 'RGPPFI', 'RPF', 'YG', 'ALEPDHR', 'VPPFLE', 'RPGGFF', 'PGPGPG', 'GGF', 'VIPFPGR', 'LGL', 'RPFG', 'LL', 'FF', 'RP', 'QLFGPNVNPWHNP', 'KPK', 'RGPPGFF', 'AV', 'PVLGPVRGPFPIIV', 'VYPFPPGI', 'YQEPVLGPVRGPFPIIV', 'RGPPGGFF', 'RGPEPIIV', 'RGPPFIIV', 'QPVLGPVRGPFPIIV', 'GY', 'VIF', 'DY', 'VYPFPPGINH', 'RPKHPIKHQ', 'EPAD', 'FG', 'SL', 'MPFPKYPVEPF', 'QLFNPSTNPWHSP', 'GPVRGPFPIIV', 'YQQPVLGPVRGPFPI', 'RRPPGF', 'YQQPVLGPVRGPFPII', 'RGFF', 'VVVPPFL', 'YPFPGPI', 'KAVPYPPQ', 'VPLGTQYTDAPSF', 'QLFNPSTNP', 'APFPEVFG', 'PL', 'LF', 'QNDKIHPFAQTQSLVYPFGPIP', 'PG', 'FPF', 'LRL', 'FFG', 'PI', 'QLFNPS', 'GP', 'PGPIP', 'LI', 'FIV', 'GPFPII', 'LG', 'PF', 'GGGLG', 'GFF', 'GGV', 'GV', 'YGY', 'RGPPGIG', 'VYPF', 'SAEFG', 'YLGYLEQLLR', 'RGPPGGGFF', 'YF', 'YEGNS', 'GGRGPPFIV', 'IT', 'FY', 'QQPVLGPVRGPFPI', 'PFPGPI', 'GL', 'VYP', 'AYFYPEL', 'FL', 'GPFPVI', 'NFNNQLDQQTPR', 'RRR', 'PFP', 'FFPP', 'ELL', 'LVYPFPGPIHN', 'GLGG', 'LGG', 'RGPFPIIV', 'TDVENLHLPPLL', 'FPP', 'WE', 'SLA', 'PFIV', 'GLY', 'LGGG', 'VI', 'PPFIV', 'VYPFPPIGNH', 'RGP', 'GGFFGG', 'GR', 'GGL', 'GPFF', 'RGPPGF', 'EQGGEQG', 'RPFFGG', 'IK', 'KPPFIV', 'IP', 'LY', 'VY', 'RGPPFIV', 'IQ', 'IW', 'RPG', 'WF', 'RGPFIV', 'LRP', 'PPP', 'RRPFF', 'EEN', 'YPF', 'WW', 'FV', 'PA', 'PPG', 'GGGGL', 'FALPQYLK', 'GKHQQEEENEGG', 'GVV', 'PGR', 'FW', 'GGGL', 'LD', 'GGRPFFGG', 'GLG', 'VIFPPG', 'IF', 'QLFNPSTNPWH', 'FFPGG', 'GPFPIIV', 'VYPFPPG', 'RGPPGGV', 'GLL', 'RGPPFF', 'RPPPFFF', 'NALPE', 'FPPFIV', 'RPFFRPFFRPFF', 'GGRGPPFIVGG', 'YLEQLLR', 'EVLN', 'EGG', 'LW', 'LLL', 'GGVVV', 'GGFF', 'NNEDT', 'QLFNPSTNPWHSP', 'MAPKHKEMPFPKYPVEPF', 'KF', 'NLQG', 'FPK', 'RGPFPIV', 'RPFF', 'IGTLAGA', 'EI', 'APFPEVF', 'PP', 'PVRGPFPIIV', 'FFVAPFPEVFGK', 'FP', 'IL', 'PVLGPV', 'FFPR', 'RRPPFF', 'VVYPWTQRF', 'GYG', 'PY', 'RGPPFGG', 'YYG', 'GFG', 'YP', 'LLLL', 'GYY', 'RPFFRPFF', 'IE', 'IS', 'VA', 'CALTP', 'AEA', 'VG', 'VF', 'AAPY', 'VEL', 'TESSSE', 'TAY', 'STMLLESER', 'SFE', 'PSE', 'PAQ', 'LYER', 'LEQL', 'LE', 'HV', 'GGNP', 'GD', 'EV', 'EPE', 'EGF', 'EED', 'EDG', 'EAGIQ', 'DL', 'DGG', 'DEL', 'DED', 'YQQPVLGPVRGPFPIIV', 'PIP', 'FI', 'PGP', 'FGFG', 'PGG', 'PFPP', 'PFPIIV', 'PFPGPIPNS', 'FFRPFFRPFF', 'FFPG', 'FFPE', 'FFGG', 'WWW', 'FFF', 'WP', 'WL', 'NENLL', 'NALEPDHRVE', 'EF', 'VYPFGGGINH', 'DV', 'DLL', 'LLG', 'VVV', 'VPPFLQ', 'LGYLEQLL', 'APKHKEMPFPKYPVEPF', 'AL', 'VIIPFPGR', 'VIIPFPG', 'LEQLL', 'AGNPDIEHPE', 'KP', 'RRPP', 'RR', 'RPPFIV', 'IN', 'II', 'RPGF', 'ID', 'IA', 'GW', 'RGPPGGF', 'RGPPGFG', 'GPPFIV', 'RGPPFIVRGPPFIV', 'RGPPFIVGG', 'GMIYPG', 'RGPKPIIV', 'GLGGG', 'GI', 'RGGFIV', 'RF', 'RDMPIQAFLLY', 'QNDKIHPFAQTQSLVYPFGPIPNSLPQNIPPLTQTPVVV', 'GGLG', 'QLFNPSTNPWH', 'FYPELFR', 'FYPE', 'PR']\n"
     ]
    }
   ],
   "source": [
    "print(protein_seq)"
   ]
  },
  {
   "cell_type": "code",
   "execution_count": 18,
   "metadata": {},
   "outputs": [
    {
     "name": "stdout",
     "output_type": "stream",
     "text": [
      "119547037146038801333356\n"
     ]
    }
   ],
   "source": [
    "import joblib\n",
    "import numpy as np\n",
    "import os\n",
    "# Load the saved model\n",
    "os.chdir('/Users/pait/Desktop/btp-ml-gastro/pretrained_models')\n",
    "model = joblib.load(open('ssa_L1_100d_lstm3x512_lm_i512_mb64_tau0.5_lambda0.1_p0.05_epoch100.sav','rb'))\n",
    "print(model)\n",
    "# Example input data (you need to replace this with your actual data)\n",
    "\n",
    "\n",
    "# input_data = np.array(protein_seq)\n",
    "# # Make predictions\n",
    "# predictions = model.predict(input_data)\n",
    "\n",
    "# # Output predictions\n",
    "# print(predictions)"
   ]
  },
  {
   "cell_type": "code",
   "execution_count": 19,
   "metadata": {},
   "outputs": [
    {
     "ename": "ModuleNotFoundError",
     "evalue": "No module named 'pyreadstat'",
     "output_type": "error",
     "traceback": [
      "\u001b[0;31m---------------------------------------------------------------------------\u001b[0m",
      "\u001b[0;31mModuleNotFoundError\u001b[0m                       Traceback (most recent call last)",
      "Cell \u001b[0;32mIn[19], line 1\u001b[0m\n\u001b[0;32m----> 1\u001b[0m \u001b[38;5;28;01mimport\u001b[39;00m \u001b[38;5;21;01mpyreadstat\u001b[39;00m\n\u001b[1;32m      3\u001b[0m \u001b[38;5;66;03m# Replace 'your_file.sav' with the path to your .sav file\u001b[39;00m\n\u001b[1;32m      4\u001b[0m file_path \u001b[38;5;241m=\u001b[39m \u001b[38;5;124m'\u001b[39m\u001b[38;5;124mssa_L1_100d_lstm3x512_lm_i512_mb64_tau0.5_lambda0.1_p0.05_epoch100.sav\u001b[39m\u001b[38;5;124m'\u001b[39m\n",
      "\u001b[0;31mModuleNotFoundError\u001b[0m: No module named 'pyreadstat'"
     ]
    }
   ],
   "source": [
    "import pyreadstat\n",
    "\n",
    "# Replace 'your_file.sav' with the path to your .sav file\n",
    "file_path = 'ssa_L1_100d_lstm3x512_lm_i512_mb64_tau0.5_lambda0.1_p0.05_epoch100.sav'\n",
    "\n",
    "# Read the .sav file\n",
    "data, meta = pyreadstat.read_sav(file_path)\n",
    "\n",
    "# 'data' contains the data from the .sav file\n",
    "# 'meta' contains metadata information such as variable names, labels, etc.\n",
    "\n",
    "# You can now work with 'data' and 'meta'\n",
    "print(data.head())  # Example: printing the first few rows of data\n",
    "print(meta)         # Example: printing metadata\n"
   ]
  },
  {
   "cell_type": "code",
   "execution_count": 23,
   "metadata": {},
   "outputs": [
    {
     "ename": "OSError",
     "evalue": "dlopen(/Users/pait/anaconda3/envs/my_env/lib/python3.12/site-packages/savReaderWriter/spssio/macos/libicudata48.1.dylib, 0x0006): tried: '/Users/pait/anaconda3/envs/my_env/lib/python3.12/site-packages/savReaderWriter/spssio/macos/libicudata48.1.dylib' (fat file, but missing compatible architecture (have 'i386,x86_64', need 'arm64')), '/System/Volumes/Preboot/Cryptexes/OS/Users/pait/anaconda3/envs/my_env/lib/python3.12/site-packages/savReaderWriter/spssio/macos/libicudata48.1.dylib' (no such file), '/Users/pait/anaconda3/envs/my_env/lib/python3.12/site-packages/savReaderWriter/spssio/macos/libicudata48.1.dylib' (fat file, but missing compatible architecture (have 'i386,x86_64', need 'arm64'))",
     "output_type": "error",
     "traceback": [
      "\u001b[0;31m---------------------------------------------------------------------------\u001b[0m",
      "\u001b[0;31mOSError\u001b[0m                                   Traceback (most recent call last)",
      "Cell \u001b[0;32mIn[23], line 7\u001b[0m\n\u001b[1;32m      3\u001b[0m file_path \u001b[38;5;241m=\u001b[39m \u001b[38;5;124m'\u001b[39m\u001b[38;5;124mssa_L1_100d_lstm3x512_lm_i512_mb64_tau0.5_lambda0.1_p0.05_epoch100.sav\u001b[39m\u001b[38;5;124m'\u001b[39m\n\u001b[1;32m      4\u001b[0m \u001b[38;5;66;03m# Replace 'your_file.sav' with the path to your .sav file\u001b[39;00m\n\u001b[1;32m      5\u001b[0m \n\u001b[1;32m      6\u001b[0m \u001b[38;5;66;03m# Open the .sav file\u001b[39;00m\n\u001b[0;32m----> 7\u001b[0m \u001b[38;5;28;01mwith\u001b[39;00m \u001b[43mSavReader\u001b[49m\u001b[43m(\u001b[49m\u001b[43mfile_path\u001b[49m\u001b[43m)\u001b[49m \u001b[38;5;28;01mas\u001b[39;00m reader:\n\u001b[1;32m      8\u001b[0m     \u001b[38;5;66;03m# Read the header (metadata)\u001b[39;00m\n\u001b[1;32m      9\u001b[0m     header \u001b[38;5;241m=\u001b[39m reader\u001b[38;5;241m.\u001b[39mheader\n\u001b[1;32m     11\u001b[0m     \u001b[38;5;66;03m# Read the data\u001b[39;00m\n",
      "File \u001b[0;32m~/anaconda3/envs/my_env/lib/python3.12/site-packages/savReaderWriter/savReader.py:80\u001b[0m, in \u001b[0;36mSavReader.__init__\u001b[0;34m(self, savFileName, returnHeader, recodeSysmisTo, verbose, selectVars, idVar, rawMode, ioUtf8, ioLocale)\u001b[0m\n\u001b[1;32m     76\u001b[0m \u001b[38;5;28;01mdef\u001b[39;00m \u001b[38;5;21m__init__\u001b[39m(\u001b[38;5;28mself\u001b[39m, savFileName, returnHeader\u001b[38;5;241m=\u001b[39m\u001b[38;5;28;01mFalse\u001b[39;00m, recodeSysmisTo\u001b[38;5;241m=\u001b[39m\u001b[38;5;28;01mNone\u001b[39;00m,\n\u001b[1;32m     77\u001b[0m              verbose\u001b[38;5;241m=\u001b[39m\u001b[38;5;28;01mFalse\u001b[39;00m, selectVars\u001b[38;5;241m=\u001b[39m\u001b[38;5;28;01mNone\u001b[39;00m, idVar\u001b[38;5;241m=\u001b[39m\u001b[38;5;28;01mNone\u001b[39;00m, rawMode\u001b[38;5;241m=\u001b[39m\u001b[38;5;28;01mFalse\u001b[39;00m,\n\u001b[1;32m     78\u001b[0m              ioUtf8\u001b[38;5;241m=\u001b[39m\u001b[38;5;28;01mFalse\u001b[39;00m, ioLocale\u001b[38;5;241m=\u001b[39m\u001b[38;5;28;01mNone\u001b[39;00m):\n\u001b[1;32m     79\u001b[0m \u001b[38;5;250m    \u001b[39m\u001b[38;5;124;03m\"\"\" Constructor. Initializes all vars that can be recycled \"\"\"\u001b[39;00m\n\u001b[0;32m---> 80\u001b[0m     \u001b[38;5;28;43msuper\u001b[39;49m\u001b[43m(\u001b[49m\u001b[43mSavReader\u001b[49m\u001b[43m,\u001b[49m\u001b[43m \u001b[49m\u001b[38;5;28;43mself\u001b[39;49m\u001b[43m)\u001b[49m\u001b[38;5;241;43m.\u001b[39;49m\u001b[38;5;21;43m__init__\u001b[39;49m\u001b[43m(\u001b[49m\u001b[43msavFileName\u001b[49m\u001b[43m,\u001b[49m\u001b[43m \u001b[49m\u001b[38;5;124;43mb\u001b[39;49m\u001b[38;5;124;43m\"\u001b[39;49m\u001b[38;5;124;43mrb\u001b[39;49m\u001b[38;5;124;43m\"\u001b[39;49m\u001b[43m,\u001b[49m\u001b[43m \u001b[49m\u001b[38;5;28;43;01mNone\u001b[39;49;00m\u001b[43m,\u001b[49m\n\u001b[1;32m     81\u001b[0m \u001b[43m                                    \u001b[49m\u001b[43mioUtf8\u001b[49m\u001b[43m,\u001b[49m\u001b[43m \u001b[49m\u001b[43mioLocale\u001b[49m\u001b[43m)\u001b[49m\n\u001b[1;32m     82\u001b[0m     \u001b[38;5;28mself\u001b[39m\u001b[38;5;241m.\u001b[39msavFileName \u001b[38;5;241m=\u001b[39m savFileName\n\u001b[1;32m     83\u001b[0m     \u001b[38;5;28mself\u001b[39m\u001b[38;5;241m.\u001b[39mreturnHeader \u001b[38;5;241m=\u001b[39m returnHeader\n",
      "File \u001b[0;32m~/anaconda3/envs/my_env/lib/python3.12/site-packages/savReaderWriter/header.py:31\u001b[0m, in \u001b[0;36mHeader.__init__\u001b[0;34m(self, savFileName, mode, refSavFileName, ioUtf8, ioLocale)\u001b[0m\n\u001b[1;32m     29\u001b[0m \u001b[38;5;28;01mdef\u001b[39;00m \u001b[38;5;21m__init__\u001b[39m(\u001b[38;5;28mself\u001b[39m, savFileName, mode, refSavFileName, ioUtf8\u001b[38;5;241m=\u001b[39m\u001b[38;5;28;01mFalse\u001b[39;00m, ioLocale\u001b[38;5;241m=\u001b[39m\u001b[38;5;28;01mNone\u001b[39;00m):\n\u001b[1;32m     30\u001b[0m \u001b[38;5;250m    \u001b[39m\u001b[38;5;124;03m\"\"\"Constructor\"\"\"\u001b[39;00m\n\u001b[0;32m---> 31\u001b[0m     \u001b[38;5;28;43msuper\u001b[39;49m\u001b[43m(\u001b[49m\u001b[43mHeader\u001b[49m\u001b[43m,\u001b[49m\u001b[43m \u001b[49m\u001b[38;5;28;43mself\u001b[39;49m\u001b[43m)\u001b[49m\u001b[38;5;241;43m.\u001b[39;49m\u001b[38;5;21;43m__init__\u001b[39;49m\u001b[43m(\u001b[49m\u001b[43msavFileName\u001b[49m\u001b[43m,\u001b[49m\u001b[43m \u001b[49m\u001b[43mioUtf8\u001b[49m\u001b[43m,\u001b[49m\u001b[43m \u001b[49m\u001b[43mioLocale\u001b[49m\u001b[43m)\u001b[49m\n\u001b[1;32m     32\u001b[0m     \u001b[38;5;28mself\u001b[39m\u001b[38;5;241m.\u001b[39mfh \u001b[38;5;241m=\u001b[39m \u001b[38;5;28msuper\u001b[39m(Header, \u001b[38;5;28mself\u001b[39m)\u001b[38;5;241m.\u001b[39mopenSavFile(savFileName, mode,\n\u001b[1;32m     33\u001b[0m                                               refSavFileName)\n\u001b[1;32m     34\u001b[0m     \u001b[38;5;28mself\u001b[39m\u001b[38;5;241m.\u001b[39mvarNames, \u001b[38;5;28mself\u001b[39m\u001b[38;5;241m.\u001b[39mvarTypes \u001b[38;5;241m=\u001b[39m \u001b[38;5;28mself\u001b[39m\u001b[38;5;241m.\u001b[39mvarNamesTypes\n",
      "File \u001b[0;32m~/anaconda3/envs/my_env/lib/python3.12/site-packages/savReaderWriter/generic.py:29\u001b[0m, in \u001b[0;36mGeneric.__init__\u001b[0;34m(self, savFileName, ioUtf8, ioLocale)\u001b[0m\n\u001b[1;32m     27\u001b[0m locale\u001b[38;5;241m.\u001b[39msetlocale(locale\u001b[38;5;241m.\u001b[39mLC_ALL, \u001b[38;5;124m\"\u001b[39m\u001b[38;5;124m\"\u001b[39m \u001b[38;5;28;01mif\u001b[39;00m ioLocale \u001b[38;5;129;01mis\u001b[39;00m \u001b[38;5;28;01mNone\u001b[39;00m \u001b[38;5;28;01melse\u001b[39;00m ioLocale)\n\u001b[1;32m     28\u001b[0m \u001b[38;5;28mself\u001b[39m\u001b[38;5;241m.\u001b[39msavFileName \u001b[38;5;241m=\u001b[39m savFileName\n\u001b[0;32m---> 29\u001b[0m \u001b[38;5;28mself\u001b[39m\u001b[38;5;241m.\u001b[39mspssio \u001b[38;5;241m=\u001b[39m \u001b[38;5;28;43mself\u001b[39;49m\u001b[38;5;241;43m.\u001b[39;49m\u001b[43mloadLibrary\u001b[49m\u001b[43m(\u001b[49m\u001b[43m)\u001b[49m\n\u001b[1;32m     31\u001b[0m \u001b[38;5;28mself\u001b[39m\u001b[38;5;241m.\u001b[39mwholeCaseIn \u001b[38;5;241m=\u001b[39m \u001b[38;5;28mself\u001b[39m\u001b[38;5;241m.\u001b[39mspssio\u001b[38;5;241m.\u001b[39mspssWholeCaseIn\n\u001b[1;32m     32\u001b[0m \u001b[38;5;28mself\u001b[39m\u001b[38;5;241m.\u001b[39mwholeCaseOut \u001b[38;5;241m=\u001b[39m \u001b[38;5;28mself\u001b[39m\u001b[38;5;241m.\u001b[39mspssio\u001b[38;5;241m.\u001b[39mspssWholeCaseOut\n",
      "File \u001b[0;32m~/anaconda3/envs/my_env/lib/python3.12/site-packages/savReaderWriter/generic.py:117\u001b[0m, in \u001b[0;36mGeneric.loadLibrary\u001b[0;34m(self)\u001b[0m\n\u001b[1;32m    114\u001b[0m \u001b[38;5;66;03m# other\u001b[39;00m\n\u001b[1;32m    115\u001b[0m \u001b[38;5;28;01melif\u001b[39;00m pf\u001b[38;5;241m.\u001b[39mstartswith(\u001b[38;5;124m\"\u001b[39m\u001b[38;5;124mdarwin\u001b[39m\u001b[38;5;124m\"\u001b[39m) \u001b[38;5;129;01mor\u001b[39;00m pf\u001b[38;5;241m.\u001b[39mstartswith(\u001b[38;5;124m\"\u001b[39m\u001b[38;5;124mmac\u001b[39m\u001b[38;5;124m\"\u001b[39m):\n\u001b[1;32m    116\u001b[0m     \u001b[38;5;66;03m# Mac: Thanks Rich Sadowsky!\u001b[39;00m\n\u001b[0;32m--> 117\u001b[0m     spssio \u001b[38;5;241m=\u001b[39m \u001b[38;5;28;43mself\u001b[39;49m\u001b[38;5;241;43m.\u001b[39;49m\u001b[43m_loadLibs\u001b[49m\u001b[43m(\u001b[49m\u001b[38;5;124;43m\"\u001b[39;49m\u001b[38;5;124;43mmacos\u001b[39;49m\u001b[38;5;124;43m\"\u001b[39;49m\u001b[43m)\u001b[49m\n\u001b[1;32m    118\u001b[0m \u001b[38;5;28;01melif\u001b[39;00m pf\u001b[38;5;241m.\u001b[39mstartswith(\u001b[38;5;124m\"\u001b[39m\u001b[38;5;124maix\u001b[39m\u001b[38;5;124m\"\u001b[39m) \u001b[38;5;129;01mand\u001b[39;00m is_64bit:\n\u001b[1;32m    119\u001b[0m     spssio \u001b[38;5;241m=\u001b[39m \u001b[38;5;28mself\u001b[39m\u001b[38;5;241m.\u001b[39m_loadLibs(\u001b[38;5;124m\"\u001b[39m\u001b[38;5;124maix64\u001b[39m\u001b[38;5;124m\"\u001b[39m)\n",
      "File \u001b[0;32m~/anaconda3/envs/my_env/lib/python3.12/site-packages/savReaderWriter/generic.py:89\u001b[0m, in \u001b[0;36mGeneric._loadLibs\u001b[0;34m(self, folder)\u001b[0m\n\u001b[1;32m     87\u001b[0m     \u001b[38;5;28mprint\u001b[39m(\u001b[38;5;124m\"\u001b[39m\u001b[38;5;130;01m\\n\u001b[39;00m\u001b[38;5;124m\"\u001b[39m\u001b[38;5;241m.\u001b[39mjoin(libs))\n\u001b[1;32m     88\u001b[0m \u001b[38;5;66;03m# PermissionError: are the DLLs on a network share (e.g NAS)?\u001b[39;00m\n\u001b[0;32m---> 89\u001b[0m \u001b[38;5;28;01mreturn\u001b[39;00m [\u001b[43mload\u001b[49m\u001b[43m(\u001b[49m\u001b[43mos\u001b[49m\u001b[38;5;241;43m.\u001b[39;49m\u001b[43mpath\u001b[49m\u001b[38;5;241;43m.\u001b[39;49m\u001b[43mjoin\u001b[49m\u001b[43m(\u001b[49m\u001b[43mpath\u001b[49m\u001b[43m,\u001b[49m\u001b[43m \u001b[49m\u001b[43mlib\u001b[49m\u001b[43m)\u001b[49m\u001b[43m)\u001b[49m \u001b[38;5;28;01mfor\u001b[39;00m lib \u001b[38;5;129;01min\u001b[39;00m libs][\u001b[38;5;241m-\u001b[39m\u001b[38;5;241m1\u001b[39m]\n",
      "File \u001b[0;32m~/anaconda3/envs/my_env/lib/python3.12/ctypes/__init__.py:379\u001b[0m, in \u001b[0;36mCDLL.__init__\u001b[0;34m(self, name, mode, handle, use_errno, use_last_error, winmode)\u001b[0m\n\u001b[1;32m    376\u001b[0m \u001b[38;5;28mself\u001b[39m\u001b[38;5;241m.\u001b[39m_FuncPtr \u001b[38;5;241m=\u001b[39m _FuncPtr\n\u001b[1;32m    378\u001b[0m \u001b[38;5;28;01mif\u001b[39;00m handle \u001b[38;5;129;01mis\u001b[39;00m \u001b[38;5;28;01mNone\u001b[39;00m:\n\u001b[0;32m--> 379\u001b[0m     \u001b[38;5;28mself\u001b[39m\u001b[38;5;241m.\u001b[39m_handle \u001b[38;5;241m=\u001b[39m \u001b[43m_dlopen\u001b[49m\u001b[43m(\u001b[49m\u001b[38;5;28;43mself\u001b[39;49m\u001b[38;5;241;43m.\u001b[39;49m\u001b[43m_name\u001b[49m\u001b[43m,\u001b[49m\u001b[43m \u001b[49m\u001b[43mmode\u001b[49m\u001b[43m)\u001b[49m\n\u001b[1;32m    380\u001b[0m \u001b[38;5;28;01melse\u001b[39;00m:\n\u001b[1;32m    381\u001b[0m     \u001b[38;5;28mself\u001b[39m\u001b[38;5;241m.\u001b[39m_handle \u001b[38;5;241m=\u001b[39m handle\n",
      "\u001b[0;31mOSError\u001b[0m: dlopen(/Users/pait/anaconda3/envs/my_env/lib/python3.12/site-packages/savReaderWriter/spssio/macos/libicudata48.1.dylib, 0x0006): tried: '/Users/pait/anaconda3/envs/my_env/lib/python3.12/site-packages/savReaderWriter/spssio/macos/libicudata48.1.dylib' (fat file, but missing compatible architecture (have 'i386,x86_64', need 'arm64')), '/System/Volumes/Preboot/Cryptexes/OS/Users/pait/anaconda3/envs/my_env/lib/python3.12/site-packages/savReaderWriter/spssio/macos/libicudata48.1.dylib' (no such file), '/Users/pait/anaconda3/envs/my_env/lib/python3.12/site-packages/savReaderWriter/spssio/macos/libicudata48.1.dylib' (fat file, but missing compatible architecture (have 'i386,x86_64', need 'arm64'))"
     ]
    }
   ],
   "source": [
    "\n",
    "from typing import Iterable\n",
    "from savReaderWriter import SavReader\n",
    "file_path = 'ssa_L1_100d_lstm3x512_lm_i512_mb64_tau0.5_lambda0.1_p0.05_epoch100.sav'\n",
    "# Replace 'your_file.sav' with the path to your .sav file\n",
    "\n",
    "# Open the .sav file\n",
    "with SavReader(file_path) as reader:\n",
    "    # Read the header (metadata)\n",
    "    header = reader.header\n",
    "    \n",
    "    # Read the data\n",
    "    data = reader.all()\n",
    "\n",
    "# Now you have 'header', which contains metadata information, \n",
    "# and 'data', which contains the data from the .sav file\n",
    "\n",
    "# Example usage:\n",
    "print(header)\n",
    "print(data[:5])  # Print first 5 rows of data\n"
   ]
  }
 ],
 "metadata": {
  "kernelspec": {
   "display_name": "my_env",
   "language": "python",
   "name": "python3"
  },
  "language_info": {
   "codemirror_mode": {
    "name": "ipython",
    "version": 3
   },
   "file_extension": ".py",
   "mimetype": "text/x-python",
   "name": "python",
   "nbconvert_exporter": "python",
   "pygments_lexer": "ipython3",
   "version": "3.12.1"
  }
 },
 "nbformat": 4,
 "nbformat_minor": 2
}
