{
 "cells": [
  {
   "cell_type": "code",
   "execution_count": 3,
   "metadata": {},
   "outputs": [],
   "source": [
    "from Pfeature.pfeature import paac\n",
    "from Pfeature.pfeature import apaac\n",
    "import pandas as pd\n",
    "import numpy as np\n",
    "\n",
    "apaac(\"protein.seq\",1,\"apaac_umami.csv\")\n",
    "\n",
    "df_data=pd.read_csv(\"merged_data_modified.csv\")\n",
    "df_data.head()\n",
    "df_protein=pd.read_csv(\"apaac_umami.csv\")\n",
    "df_protein.head()\n",
    "\n",
    "df_final=pd.concat([df_data, df_protein], axis=1)\n",
    "\n",
    "df_final.drop(['seq'], axis=1, inplace=True)\n",
    "df_final.head()\n",
    "\n",
    "\n",
    "\n",
    "df_final.to_csv('apaac_data.csv', index=False)"
   ]
  },
  {
   "cell_type": "code",
   "execution_count": 4,
   "metadata": {},
   "outputs": [],
   "source": [
    "#take a csv files, shuffle it and split it into train and test tsv files\n",
    "from sklearn.model_selection import train_test_split\n",
    "import pandas as pd\n",
    "\n",
    "df = pd.read_csv('apaac_data.csv')\n",
    "df = df.sample(frac=1)\n",
    "df_train, df_test = train_test_split(df, test_size=0.2)\n",
    "\n",
    "df_train.to_csv('apaac_train.csv', index=False)\n",
    "df_test.to_csv('apaac_test.csv', index=False)\n",
    "\n",
    "\n"
   ]
  },
  {
   "cell_type": "code",
   "execution_count": null,
   "metadata": {},
   "outputs": [],
   "source": [
    "\n",
    "df = pd.read_csv('paac_data.csv')\n",
    "df = df.sample(frac=1)\n",
    "df_train, df_test = train_test_split(df, test_size=0.2)\n",
    "\n",
    "df_train.to_csv('paac_train.csv', index=False)\n",
    "df_test.to_csv('paac_test.csv', index=False)\n",
    "\n",
    "\n"
   ]
  },
  {
   "cell_type": "code",
   "execution_count": 4,
   "metadata": {},
   "outputs": [],
   "source": [
    "import pandas as pd\n",
    "import os\n",
    "\n",
    "def process_file(file_path):\n",
    "    df = pd.read_csv(file_path, sep='\\t')\n",
    "    \n",
    "    # Rename column '#' to 'id'\n",
    "    df.rename(columns={'#': 'id'}, inplace=True)\n",
    "    \n",
    "    # Label entries in 'id' column based on starting character\n",
    "    df['id'] = df['id'].apply(lambda x: 1 if x.startswith('P') else 0)\n",
    "    \n",
    "    return df\n",
    "\n",
    "# Assuming all TSV files are in the same directory\n",
    "files = os.listdir('/Users/pait/Desktop/btp-ml-gastro/paper recreate/test')\n",
    "for file_name in files:\n",
    "    if file_name.endswith('.tsv'):\n",
    "        file_path = os.path.join('/Users/pait/Desktop/btp-ml-gastro/paper recreate/test', file_name)\n",
    "        df = process_file(file_path)\n",
    "        \n",
    "        # Save the modified DataFrame back to a TSV file\n",
    "        new_file_name = file_name.replace('.tsv', '_modified.csv')\n",
    "        new_file_path = os.path.join('/Users/pait/Desktop/btp-ml-gastro/paper recreate/test', new_file_name)\n",
    "        df.to_csv(new_file_path, sep='\\t', index=False)\n"
   ]
  },
  {
   "cell_type": "code",
   "execution_count": null,
   "metadata": {},
   "outputs": [],
   "source": [
    "import pandas as pd\n",
    "import os\n",
    "\n",
    "def process_file(file_path):\n",
    "    df = pd.read_csv(file_path, sep='\\t')\n",
    "    \n",
    "    # Rename column '#' to 'id'\n",
    "    df.rename(columns={'#': 'id'}, inplace=True)\n",
    "    \n",
    "    # Label entries in 'id' column based on starting character\n",
    "    df['id'] = df['id'].apply(lambda x: 1 if x.startswith('P') else 0)\n",
    "    \n",
    "    return df\n",
    "\n",
    "# Assuming all TSV files are in the same directory\n",
    "files = os.listdir('/Users/pait/Desktop/btp-ml-gastro/paper recreate/train')\n",
    "for file_name in files:\n",
    "    if file_name.endswith('.tsv'):\n",
    "        file_path = os.path.join('/Users/pait/Desktop/btp-ml-gastro/paper recreate/train', file_name)\n",
    "        df = process_file(file_path)\n",
    "        \n",
    "        # Save the modified DataFrame back to a TSV file\n",
    "        new_file_name = file_name.replace('.tsv', '_modified.csv')\n",
    "        new_file_path = os.path.join('/Users/pait/Desktop/btp-ml-gastro/paper recreate/train', new_file_name)\n",
    "        df.to_csv(new_file_path, sep='\\t', index=False)\n"
   ]
  }
 ],
 "metadata": {
  "kernelspec": {
   "display_name": "my_env",
   "language": "python",
   "name": "python3"
  },
  "language_info": {
   "codemirror_mode": {
    "name": "ipython",
    "version": 3
   },
   "file_extension": ".py",
   "mimetype": "text/x-python",
   "name": "python",
   "nbconvert_exporter": "python",
   "pygments_lexer": "ipython3",
   "version": "3.12.1"
  }
 },
 "nbformat": 4,
 "nbformat_minor": 2
}
