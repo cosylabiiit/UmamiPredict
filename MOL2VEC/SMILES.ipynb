{
 "cells": [
  {
   "cell_type": "code",
   "execution_count": 64,
   "metadata": {},
   "outputs": [],
   "source": [
    "#combine 2 csv files drop column id 'column' then save into onw csv\n",
    "import pandas as pd\n",
    "import numpy as np\n",
    "\n",
    "\n",
    "#read csv file\n",
    "df1 = pd.read_csv('Umami_testing_dataset.csv')\n",
    "df2 = pd.read_csv('Umami_training_dataset.csv')\n",
    "\n",
    "#drop column\n",
    "df1.drop('Column1', axis=1, inplace=True)\n",
    "df1.drop('Parent_SMILES', axis=1, inplace=True)\n",
    "df2.drop('Parent_SMILES', axis=1, inplace=True)\n",
    "df2.drop('Column1', axis=1, inplace=True)\n",
    "\n",
    "\n",
    "#combine 2 csv files\n",
    "df = pd.concat([df1, df2],ignore_index=True)\n",
    "\n",
    "#iterate over TASTE collumn and change values\n",
    "\n",
    "df['TASTE'] = df['TASTE'].apply(lambda x: 1 if str(x).startswith(\"u\") else 0)\n",
    "\n",
    "#save to csv\n",
    "df.to_csv('file.csv', index=False)\n",
    "\n",
    "\n",
    "\n"
   ]
  },
  {
   "cell_type": "code",
   "execution_count": 65,
   "metadata": {},
   "outputs": [],
   "source": [
    "#use rdkit to convert smiles to mol\n",
    "from rdkit import Chem\n",
    "from rdkit.Chem import Draw\n",
    "from rdkit.Chem import AllChem\n",
    "from rdkit.Chem import Descriptors\n",
    "from rdkit.Chem import rdMolDescriptors\n",
    "from rdkit.Chem import PandasTools\n",
    "\n",
    "#read csv file\n",
    "df = pd.read_csv('file.csv')\n",
    "df['mol']=df['Std_SMILES'].apply(lambda x: Chem.MolFromSmiles(x))\n"
   ]
  },
  {
   "cell_type": "code",
   "execution_count": 66,
   "metadata": {},
   "outputs": [
    {
     "data": {
      "text/html": [
       "<div>\n",
       "<style scoped>\n",
       "    .dataframe tbody tr th:only-of-type {\n",
       "        vertical-align: middle;\n",
       "    }\n",
       "\n",
       "    .dataframe tbody tr th {\n",
       "        vertical-align: top;\n",
       "    }\n",
       "\n",
       "    .dataframe thead th {\n",
       "        text-align: right;\n",
       "    }\n",
       "</style>\n",
       "<table border=\"1\" class=\"dataframe\">\n",
       "  <thead>\n",
       "    <tr style=\"text-align: right;\">\n",
       "      <th></th>\n",
       "      <th>SEQUENCE</th>\n",
       "      <th>Std_SMILES</th>\n",
       "      <th>mol</th>\n",
       "    </tr>\n",
       "  </thead>\n",
       "  <tbody>\n",
       "    <tr>\n",
       "      <th>0</th>\n",
       "      <td>CALTP</td>\n",
       "      <td>CC(C)C[C@H](NC(=O)[C@H](C)NC(=O)[C@@H](N)CS)C(...</td>\n",
       "      <td>&lt;rdkit.Chem.rdchem.Mol object at 0x2a3182180&gt;</td>\n",
       "    </tr>\n",
       "    <tr>\n",
       "      <th>1</th>\n",
       "      <td>AEA</td>\n",
       "      <td>C[C@H](N)C(=O)N[C@@H](CCC(=O)O)C(=O)N[C@@H](C)...</td>\n",
       "      <td>&lt;rdkit.Chem.rdchem.Mol object at 0x2a3182110&gt;</td>\n",
       "    </tr>\n",
       "    <tr>\n",
       "      <th>2</th>\n",
       "      <td>VG</td>\n",
       "      <td>CC(C)[C@H](N)C(=O)NCC(=O)O</td>\n",
       "      <td>&lt;rdkit.Chem.rdchem.Mol object at 0x2a31820a0&gt;</td>\n",
       "    </tr>\n",
       "    <tr>\n",
       "      <th>3</th>\n",
       "      <td>VF</td>\n",
       "      <td>CC(C)[C@H](N)C(=O)N[C@@H](Cc1ccccc1)C(=O)O</td>\n",
       "      <td>&lt;rdkit.Chem.rdchem.Mol object at 0x2a3182030&gt;</td>\n",
       "    </tr>\n",
       "    <tr>\n",
       "      <th>4</th>\n",
       "      <td>AAPY</td>\n",
       "      <td>C[C@H](N)C(=O)N[C@@H](C)C(=O)N1CCC[C@H]1C(=O)N...</td>\n",
       "      <td>&lt;rdkit.Chem.rdchem.Mol object at 0x2a3181fc0&gt;</td>\n",
       "    </tr>\n",
       "    <tr>\n",
       "      <th>...</th>\n",
       "      <td>...</td>\n",
       "      <td>...</td>\n",
       "      <td>...</td>\n",
       "    </tr>\n",
       "    <tr>\n",
       "      <th>437</th>\n",
       "      <td>GYY</td>\n",
       "      <td>NCC(=O)N[C@@H](Cc1ccc(O)cc1)C(=O)N[C@@H](Cc1cc...</td>\n",
       "      <td>&lt;rdkit.Chem.rdchem.Mol object at 0x2a0044cf0&gt;</td>\n",
       "    </tr>\n",
       "    <tr>\n",
       "      <th>438</th>\n",
       "      <td>RPFFRPFF</td>\n",
       "      <td>N=C(N)NCCC[C@H](N)C(=O)N1CCC[C@H]1C(=O)N[C@@H]...</td>\n",
       "      <td>&lt;rdkit.Chem.rdchem.Mol object at 0x2a0044d60&gt;</td>\n",
       "    </tr>\n",
       "    <tr>\n",
       "      <th>439</th>\n",
       "      <td>IE</td>\n",
       "      <td>CC[C@H](C)[C@H](N)C(=O)N[C@@H](CCC(=O)O)C(=O)O</td>\n",
       "      <td>&lt;rdkit.Chem.rdchem.Mol object at 0x2a0044dd0&gt;</td>\n",
       "    </tr>\n",
       "    <tr>\n",
       "      <th>440</th>\n",
       "      <td>IS</td>\n",
       "      <td>CC[C@H](C)[C@H](N)C(=O)N[C@@H](CO)C(=O)O</td>\n",
       "      <td>&lt;rdkit.Chem.rdchem.Mol object at 0x2a0044e40&gt;</td>\n",
       "    </tr>\n",
       "    <tr>\n",
       "      <th>441</th>\n",
       "      <td>VA</td>\n",
       "      <td>CC(C)[C@H](N)C(=O)N[C@@H](C)C(=O)O</td>\n",
       "      <td>&lt;rdkit.Chem.rdchem.Mol object at 0x2a0044eb0&gt;</td>\n",
       "    </tr>\n",
       "  </tbody>\n",
       "</table>\n",
       "<p>442 rows × 3 columns</p>\n",
       "</div>"
      ],
      "text/plain": [
       "     SEQUENCE                                         Std_SMILES  \\\n",
       "0       CALTP  CC(C)C[C@H](NC(=O)[C@H](C)NC(=O)[C@@H](N)CS)C(...   \n",
       "1         AEA  C[C@H](N)C(=O)N[C@@H](CCC(=O)O)C(=O)N[C@@H](C)...   \n",
       "2          VG                         CC(C)[C@H](N)C(=O)NCC(=O)O   \n",
       "3          VF         CC(C)[C@H](N)C(=O)N[C@@H](Cc1ccccc1)C(=O)O   \n",
       "4        AAPY  C[C@H](N)C(=O)N[C@@H](C)C(=O)N1CCC[C@H]1C(=O)N...   \n",
       "..        ...                                                ...   \n",
       "437       GYY  NCC(=O)N[C@@H](Cc1ccc(O)cc1)C(=O)N[C@@H](Cc1cc...   \n",
       "438  RPFFRPFF  N=C(N)NCCC[C@H](N)C(=O)N1CCC[C@H]1C(=O)N[C@@H]...   \n",
       "439        IE     CC[C@H](C)[C@H](N)C(=O)N[C@@H](CCC(=O)O)C(=O)O   \n",
       "440        IS           CC[C@H](C)[C@H](N)C(=O)N[C@@H](CO)C(=O)O   \n",
       "441        VA                 CC(C)[C@H](N)C(=O)N[C@@H](C)C(=O)O   \n",
       "\n",
       "                                               mol  \n",
       "0    <rdkit.Chem.rdchem.Mol object at 0x2a3182180>  \n",
       "1    <rdkit.Chem.rdchem.Mol object at 0x2a3182110>  \n",
       "2    <rdkit.Chem.rdchem.Mol object at 0x2a31820a0>  \n",
       "3    <rdkit.Chem.rdchem.Mol object at 0x2a3182030>  \n",
       "4    <rdkit.Chem.rdchem.Mol object at 0x2a3181fc0>  \n",
       "..                                             ...  \n",
       "437  <rdkit.Chem.rdchem.Mol object at 0x2a0044cf0>  \n",
       "438  <rdkit.Chem.rdchem.Mol object at 0x2a0044d60>  \n",
       "439  <rdkit.Chem.rdchem.Mol object at 0x2a0044dd0>  \n",
       "440  <rdkit.Chem.rdchem.Mol object at 0x2a0044e40>  \n",
       "441  <rdkit.Chem.rdchem.Mol object at 0x2a0044eb0>  \n",
       "\n",
       "[442 rows x 3 columns]"
      ]
     },
     "execution_count": 66,
     "metadata": {},
     "output_type": "execute_result"
    }
   ],
   "source": [
    "# X=df.drop(columns='TASTE',inplace=False)\n",
    "y=df['TASTE']\n",
    "X=df.drop(columns='TASTE',inplace=False)\n",
    "y\n",
    "X"
   ]
  },
  {
   "cell_type": "code",
   "execution_count": 67,
   "metadata": {},
   "outputs": [
    {
     "data": {
      "text/plain": [
       "(442, 3)"
      ]
     },
     "execution_count": 67,
     "metadata": {},
     "output_type": "execute_result"
    }
   ],
   "source": [
    "from gensim.models import word2vec\n",
    "model = word2vec.Word2Vec.load('model_300dim.pkl')\n",
    "\n",
    "      \n",
    "\n",
    "\n",
    "\n",
    "X.shape"
   ]
  },
  {
   "cell_type": "code",
   "execution_count": 68,
   "metadata": {},
   "outputs": [],
   "source": [
    "from mol2vec.features import mol2alt_sentence, mol2sentence, MolSentence, DfVec, sentences2vec\n",
    "from gensim.models import word2vec\n",
    "df['sentence'] = df.apply(lambda x: MolSentence(mol2alt_sentence(x['mol'], 1)), axis=1)\n",
    "\n"
   ]
  },
  {
   "cell_type": "code",
   "execution_count": 69,
   "metadata": {},
   "outputs": [],
   "source": [
    "df['mol2vec'] = [DfVec(x) for x in sentences2vec(df['sentence'], model)]"
   ]
  },
  {
   "cell_type": "code",
   "execution_count": 70,
   "metadata": {},
   "outputs": [],
   "source": [
    "df\n",
    "X = np.array([x.vec for x in df['mol2vec']])"
   ]
  },
  {
   "cell_type": "code",
   "execution_count": 71,
   "metadata": {},
   "outputs": [],
   "source": [
    "X = np.array([x.vec for x in df['mol2vec']])"
   ]
  },
  {
   "cell_type": "code",
   "execution_count": 72,
   "metadata": {},
   "outputs": [
    {
     "data": {
      "text/plain": [
       "(442, 300)"
      ]
     },
     "execution_count": 72,
     "metadata": {},
     "output_type": "execute_result"
    }
   ],
   "source": [
    "X.shape\n"
   ]
  },
  {
   "cell_type": "code",
   "execution_count": 73,
   "metadata": {},
   "outputs": [],
   "source": [
    "#save the data as numpy array\n",
    "np.save('Xmol2vec.npy', X)\n",
    "np.save('ymol2vec.npy', y)\n"
   ]
  },
  {
   "cell_type": "code",
   "execution_count": 74,
   "metadata": {},
   "outputs": [
    {
     "name": "stdout",
     "output_type": "stream",
     "text": [
      "[ 1.67110220e-01 -2.05820322e+00 -4.71039248e+00 -2.89131856e+00\n",
      "  6.50057602e+00 -6.29690075e+00 -1.49995871e+01 -4.90180492e+00\n",
      "  1.47420168e+01  1.59416485e+00  6.27516806e-01  5.90372705e+00\n",
      "  3.62904930e+00  5.18021774e+00 -1.29874916e+01 -6.29498601e-01\n",
      "  1.19649725e+01 -1.83549347e+01 -1.29549265e+01  1.24220295e+01\n",
      "  3.99702764e+00  1.25278931e+01  2.24470196e+01  6.99144173e+00\n",
      " -4.35944605e+00  6.23554325e+00 -1.12722168e+01 -1.19258223e+01\n",
      "  4.51000500e+00 -9.77745724e+00  5.33896971e+00 -7.13298893e+00\n",
      " -1.11209545e+01  3.56816739e-01 -1.41137636e+00  4.37806034e+00\n",
      " -1.92036343e+00  1.95603371e+00  7.47544003e+00  1.01122713e+01\n",
      "  2.17269087e+00  9.52645111e+00 -4.85903692e+00 -6.79598475e+00\n",
      " -2.96072364e+00  7.00032854e+00  5.70706606e+00  2.29232426e+01\n",
      " -1.00890436e+01  1.72249973e+00  2.50891066e+00 -1.17815409e+01\n",
      "  2.93588567e+00 -1.08822412e+01 -1.42535353e+01 -2.25757961e+01\n",
      " -9.03721619e+00  8.92336178e+00  3.70611024e+00  5.24022818e+00\n",
      "  3.09952664e+00 -5.06963921e+00 -1.09275570e+01  9.25053596e+00\n",
      " -2.17689552e+01 -6.92621469e-01  8.92415333e+00  6.29632521e+00\n",
      " -1.32803478e+01 -2.86544442e+00 -6.74156964e-01  6.82943439e+00\n",
      "  6.55996513e+00 -1.43370705e+01  2.08156919e+00  1.13766365e+01\n",
      " -1.85452785e+01 -2.65394306e+00  6.71596193e+00  2.98894429e+00\n",
      "  1.17444611e+01 -2.45190239e+00  7.58359098e+00 -2.46426048e+01\n",
      "  1.10832043e+01 -6.84228325e+00 -3.45959663e+00 -5.84054589e-02\n",
      "  5.73512137e-01 -5.41015244e+00  6.40262365e+00  9.11996460e+00\n",
      "  4.59686708e+00  4.90179157e+00  1.00368128e+01  1.22265518e-03\n",
      "  1.34627810e+01  1.10390449e+00  1.64080887e+01 -7.56093359e+00\n",
      " -5.43344879e+00 -1.19227047e+01 -1.61667137e+01 -6.23994446e+00\n",
      "  7.95131874e+00 -1.72181854e+01 -1.03507061e+01  7.48926020e+00\n",
      "  4.79604340e+00 -1.19515228e+01 -1.39324865e+01  1.22910223e+01\n",
      "  1.12592030e+01 -1.22076864e+01  3.83682346e+00 -5.88629055e+00\n",
      "  1.38412609e+01  9.24992085e+00  1.28974307e+00  1.30499973e+01\n",
      " -3.40529633e+00  3.72369504e+00 -2.52178311e-01  1.21261330e+01\n",
      "  2.58501768e+00 -1.85201511e+01 -1.09161873e+01  2.98112810e-01\n",
      " -8.40797329e+00  2.17219162e+00 -4.45590258e-01 -3.53561926e+00\n",
      "  4.50022030e+00  2.37173328e+01 -2.18930990e-01  1.45199022e+01\n",
      " -3.04488969e+00 -6.39789152e+00  1.00118322e+01 -2.24573469e+00\n",
      "  8.36464977e+00 -4.43361664e+00 -3.21042418e+00 -6.39171314e+00\n",
      "  9.01464272e+00 -8.07268500e-01  8.22224903e+00  5.25885820e-01\n",
      "  4.21898079e+00  1.73514595e+01 -1.94612801e+00  3.01377702e+00\n",
      "  8.69362259e+00 -9.72210217e+00  1.95509720e+00  6.54404116e+00\n",
      " -4.93308783e+00  6.13629639e-01 -1.95882905e+00 -1.35410147e+01\n",
      "  5.49859238e+00  3.19621325e+00 -5.42014790e+00  9.10410881e+00\n",
      "  7.60418940e+00 -1.42101803e+01  5.84917116e+00 -1.87755454e+00\n",
      " -1.43111020e-01  9.84571648e+00 -1.04678040e+01 -8.24217606e+00\n",
      "  1.56188107e+01  4.85242218e-01  5.87270260e+00  8.63196969e-01\n",
      "  1.11141024e+01 -2.69002509e+00 -3.32575679e+00  1.10350208e+01\n",
      " -4.94641972e+00  1.60425835e+01  2.26255369e+00  1.58034611e+01\n",
      " -1.69623113e+00 -8.45688438e+00  4.63233042e+00  3.40001750e+00\n",
      " -7.53731585e+00 -8.37391376e+00  7.79365349e+00 -1.77605069e+00\n",
      " -1.15927401e+01 -1.14446998e+00  1.32907343e+01  6.75434971e+00\n",
      "  2.94596457e+00 -1.95600853e+01 -2.55491495e+00 -8.30947590e+00\n",
      " -5.04136705e+00  1.21926081e+00  1.21959543e+01 -2.31792927e+00\n",
      "  4.17208290e+00 -6.16244221e+00  1.23289785e+01  1.53151045e+01\n",
      "  8.93430138e+00 -7.20849562e+00  2.09112568e+01  2.63516307e-01\n",
      "  1.62364330e+01 -5.94905376e+00  7.55044699e+00  3.28591108e-01\n",
      "  9.31106472e+00  3.92881751e+00 -1.31025410e+01  6.48083115e+00\n",
      "  7.80930710e+00 -9.03141975e+00 -4.51636600e+00  3.03792143e+00\n",
      "  5.13751698e+00 -5.41764116e+00 -1.01650047e+00 -2.79529834e+00\n",
      "  1.05798941e+01 -1.19079151e+01 -1.92238414e+00 -5.23044109e+00\n",
      " -1.21832333e+01 -4.34324265e+00 -6.25649643e+00 -9.77957726e+00\n",
      " -4.03195620e+00  2.87912846e+00 -6.26254368e+00  1.34818239e+01\n",
      "  9.34951210e+00 -1.51103048e+01  7.67683220e+00 -4.91395903e+00\n",
      " -4.03676987e+00  5.40292835e+00 -2.08034916e+01 -8.11418533e+00\n",
      " -2.97553611e+00  8.62094116e+00 -2.28187408e+01  6.88729668e+00\n",
      "  8.09137821e+00 -7.93041086e+00 -1.38873987e+01  8.08737278e+00\n",
      "  4.05735016e+00 -1.19384174e+01  1.54579086e+01 -1.92393208e+01\n",
      " -8.21161449e-01  2.20362529e-01  8.09636354e-01  8.85877705e+00\n",
      " -6.40458465e-01 -1.20805349e+01 -5.96871567e+00 -1.34527075e+00\n",
      "  9.16995811e+00 -1.21609879e+01  7.27172613e-01  8.64928913e+00\n",
      " -3.27657890e+00  1.05358005e+00 -3.35339808e+00 -9.96907520e+00\n",
      " -8.14311600e+00 -7.61906528e+00 -2.69170570e+00  7.38266802e+00\n",
      " -8.32732964e+00 -6.18916702e+00 -1.49202232e+01 -8.27828026e+00\n",
      " -2.90701628e+00  8.50362492e+00 -1.59684074e+00 -3.12926245e+00\n",
      " -1.09512749e+01 -4.13236666e+00  9.00624871e-01  1.06435385e+01\n",
      "  8.08507633e+00  8.53171539e+00 -1.26503716e+01 -6.15074682e+00\n",
      " -6.77089319e-02 -1.49480038e+01 -1.66707649e+01 -5.83939075e-01]\n"
     ]
    }
   ],
   "source": [
    "print(X[0])"
   ]
  },
  {
   "cell_type": "code",
   "execution_count": 75,
   "metadata": {},
   "outputs": [
    {
     "data": {
      "text/plain": [
       "(442,)"
      ]
     },
     "execution_count": 75,
     "metadata": {},
     "output_type": "execute_result"
    }
   ],
   "source": [
    "y.shape"
   ]
  },
  {
   "cell_type": "code",
   "execution_count": 102,
   "metadata": {},
   "outputs": [],
   "source": [
    "\n",
    "from sklearn.model_selection import train_test_split\n",
    "X_train, X_test, y_train, y_test = train_test_split(X, y, test_size=.1, random_state=1)"
   ]
  },
  {
   "cell_type": "code",
   "execution_count": 104,
   "metadata": {},
   "outputs": [
    {
     "name": "stdout",
     "output_type": "stream",
     "text": [
      "accuracy: \n",
      "0.8222222222222222\n",
      "0.8\n",
      "              precision    recall  f1-score   support\n",
      "\n",
      "           0       0.76      1.00      0.86        25\n",
      "           1       1.00      0.60      0.75        20\n",
      "\n",
      "    accuracy                           0.82        45\n",
      "   macro avg       0.88      0.80      0.81        45\n",
      "weighted avg       0.87      0.82      0.81        45\n",
      "\n",
      "0.89\n",
      "0.7499999999999999\n",
      "0.6741998624632421\n"
     ]
    }
   ],
   "source": [
    "from sklearn.ensemble import RandomForestClassifier\n",
    "from sklearn.metrics import accuracy_score\n",
    "from sklearn.metrics import confusion_matrix\n",
    "from sklearn.metrics import classification_report\n",
    "from sklearn.metrics import matthews_corrcoef\n",
    "from sklearn.metrics import roc_auc_score\n",
    "from sklearn.metrics import roc_curve\n",
    "import matplotlib.pyplot as plt\n",
    "import seaborn as sns\n",
    "from sklearn.metrics import balanced_accuracy_score\n",
    "\n",
    "rf = RandomForestClassifier(n_estimators=100, max_depth=2, random_state=0)\n",
    "rf.fit(X_train, y_train)\n",
    "\n",
    "y_pred = rf.predict(X_test)\n",
    "y_pred_proba = rf.predict_proba(X_test)[:,1]\n",
    "\n",
    "\n",
    "print('accuracy: ')\n",
    "print(accuracy_score(y_test, y_pred))\n",
    "confusion_matrix(y_test, y_pred)\n",
    "print(balanced_accuracy_score(y_test, y_pred))\n",
    "print(classification_report(y_test, y_pred))\n",
    "print(roc_auc_score(y_test, y_pred_proba))\n",
    "#f1 score\n",
    "from sklearn.metrics import f1_score\n",
    "\n",
    "print(f1_score(y_test, y_pred))\n",
    "print(matthews_corrcoef(y_test, y_pred))\n"
   ]
  },
  {
   "cell_type": "code",
   "execution_count": 78,
   "metadata": {},
   "outputs": [
    {
     "name": "stdout",
     "output_type": "stream",
     "text": [
      "[[36  0]\n",
      " [ 2  7]]\n"
     ]
    }
   ],
   "source": [
    "from sklearn.metrics import confusion_matrix\n",
    "print(confusion_matrix(y_test, y_pred))"
   ]
  },
  {
   "cell_type": "code",
   "execution_count": 79,
   "metadata": {},
   "outputs": [
    {
     "data": {
      "image/png": "[encoded data removed]",
      "text/plain": [
       "<Figure size 800x600 with 2 Axes>"
      ]
     },
     "metadata": {},
     "output_type": "display_data"
    }
   ],
   "source": [
    "#tsne\n",
    "from sklearn.manifold import TSNE\n",
    "tsne = TSNE(n_components=2, random_state=0,perplexity=5)\n",
    "\n",
    "X_2d = tsne.fit_transform(X)\n",
    "\n",
    "plt.figure(figsize=(8,6))\n",
    "plt.scatter(X_2d[:,0],X_2d[:,1],c=y,cmap='viridis')\n",
    "plt.colorbar()\n",
    "plt.show()"
   ]
  },
  {
   "cell_type": "code",
   "execution_count": 80,
   "metadata": {},
   "outputs": [
    {
     "name": "stdout",
     "output_type": "stream",
     "text": [
      "0.9111111111111111\n",
      "0.8611111111111112\n",
      "              precision    recall  f1-score   support\n",
      "\n",
      "           0       0.94      0.94      0.94        36\n",
      "           1       0.78      0.78      0.78         9\n",
      "\n",
      "    accuracy                           0.91        45\n",
      "   macro avg       0.86      0.86      0.86        45\n",
      "weighted avg       0.91      0.91      0.91        45\n",
      "\n"
     ]
    },
    {
     "name": "stderr",
     "output_type": "stream",
     "text": [
      "/Users/pait/anaconda3/envs/my_env/lib/python3.12/site-packages/sklearn/linear_model/_logistic.py:460: ConvergenceWarning: lbfgs failed to converge (status=1):\n",
      "STOP: TOTAL NO. of ITERATIONS REACHED LIMIT.\n",
      "\n",
      "Increase the number of iterations (max_iter) or scale the data as shown in:\n",
      "    https://scikit-learn.org/stable/modules/preprocessing.html\n",
      "Please also refer to the documentation for alternative solver options:\n",
      "    https://scikit-learn.org/stable/modules/linear_model.html#logistic-regression\n",
      "  n_iter_i = _check_optimize_result(\n"
     ]
    }
   ],
   "source": [
    "from sklearn.linear_model import LogisticRegression\n",
    "logreg = LogisticRegression()\n",
    "\n",
    "logreg.fit(X_train, y_train)\n",
    "y_pred = logreg.predict(X_test)\n",
    "y_pred_proba = logreg.predict_proba(X_test)[:,1]\n",
    "accuracy_score(y_test, y_pred)\n",
    "print(accuracy_score(y_test, y_pred))\n",
    "print(balanced_accuracy_score(y_test, y_pred))\n",
    "confusion_matrix(y_test, y_pred)\n",
    "print(classification_report(y_test, y_pred))\n"
   ]
  },
  {
   "cell_type": "code",
   "execution_count": 81,
   "metadata": {},
   "outputs": [
    {
     "name": "stdout",
     "output_type": "stream",
     "text": [
      "0.9333333333333333\n",
      "              precision    recall  f1-score   support\n",
      "\n",
      "           0       0.97      0.94      0.96        36\n",
      "           1       0.80      0.89      0.84         9\n",
      "\n",
      "    accuracy                           0.93        45\n",
      "   macro avg       0.89      0.92      0.90        45\n",
      "weighted avg       0.94      0.93      0.93        45\n",
      "\n"
     ]
    }
   ],
   "source": [
    "#support vector classifier\n",
    "from sklearn.svm import SVC\n",
    "svc = SVC(kernel='linear', probability=True)\n",
    "svc.fit(X_train, y_train)\n",
    "y_pred = svc.predict(X_test)\n",
    "y_pred_proba = svc.predict_proba(X_test)[:,1]\n",
    "accuracy_score(y_test, y_pred)\n",
    "print(accuracy_score(y_test, y_pred))\n",
    "\n",
    "print(classification_report(y_test, y_pred))\n"
   ]
  },
  {
   "cell_type": "code",
   "execution_count": 107,
   "metadata": {},
   "outputs": [
    {
     "name": "stdout",
     "output_type": "stream",
     "text": [
      "0.8444444444444444\n",
      "0.83\n",
      "              precision    recall  f1-score   support\n",
      "\n",
      "           0       0.80      0.96      0.87        25\n",
      "           1       0.93      0.70      0.80        20\n",
      "\n",
      "    accuracy                           0.84        45\n",
      "   macro avg       0.87      0.83      0.84        45\n",
      "weighted avg       0.86      0.84      0.84        45\n",
      "\n",
      "0.6957010852370434\n",
      "0.8\n",
      "0.928\n"
     ]
    }
   ],
   "source": [
    "#multilayer perceptron\n",
    "from sklearn.neural_network import MLPClassifier\n",
    "mlp = MLPClassifier(hidden_layer_sizes=(100, 100), max_iter=1000)\n",
    "mlp.fit(X_train, y_train)\n",
    "y_pred = mlp.predict(X_test)\n",
    "y_pred_proba = mlp.predict_proba(X_test)[:,1]\n",
    "accuracy_score(y_test, y_pred)\n",
    "print(accuracy_score(y_test, y_pred))\n",
    "print(balanced_accuracy_score(y_test, y_pred))\n",
    "confusion_matrix(y_test, y_pred)\n",
    "print(classification_report(y_test, y_pred))\n",
    "#mcc\n",
    "print(matthews_corrcoef(y_test, y_pred))\n",
    "#cross validation\n",
    "print(f1_score(y_test, y_pred))\n",
    "print(roc_auc_score(y_test, y_pred_proba))\n",
    "#cross validation\n",
    "from sklearn.model_selection import cross_val_score\n",
    "\n"
   ]
  },
  {
   "cell_type": "code",
   "execution_count": 83,
   "metadata": {},
   "outputs": [
    {
     "name": "stdout",
     "output_type": "stream",
     "text": [
      "Accuracy: 0.7986538461538462\n"
     ]
    },
    {
     "ename": "ValueError",
     "evalue": "Found input variables with inconsistent numbers of samples: [45, 397]",
     "output_type": "error",
     "traceback": [
      "\u001b[0;31m---------------------------------------------------------------------------\u001b[0m",
      "\u001b[0;31mValueError\u001b[0m                                Traceback (most recent call last)",
      "Cell \u001b[0;32mIn[83], line 17\u001b[0m\n\u001b[1;32m     15\u001b[0m y_pred \u001b[38;5;241m=\u001b[39m cross_val_predict(rf, X_train, y_train, cv\u001b[38;5;241m=\u001b[39mcv)\n\u001b[1;32m     16\u001b[0m \u001b[38;5;28mprint\u001b[39m(\u001b[38;5;124m'\u001b[39m\u001b[38;5;124mAccuracy:\u001b[39m\u001b[38;5;124m'\u001b[39m, np\u001b[38;5;241m.\u001b[39mmean(scores))\n\u001b[0;32m---> 17\u001b[0m \u001b[38;5;28mprint\u001b[39m(\u001b[38;5;124m'\u001b[39m\u001b[38;5;124mBalanced Accuracy:\u001b[39m\u001b[38;5;124m'\u001b[39m, \u001b[43mbalanced_accuracy_score\u001b[49m\u001b[43m(\u001b[49m\u001b[43my_test\u001b[49m\u001b[43m,\u001b[49m\u001b[43m \u001b[49m\u001b[43my_pred\u001b[49m\u001b[43m)\u001b[49m)\n\u001b[1;32m     18\u001b[0m \u001b[38;5;28mprint\u001b[39m(confusion_matrix(y_test, y_pred))\n",
      "File \u001b[0;32m~/anaconda3/envs/my_env/lib/python3.12/site-packages/sklearn/utils/_param_validation.py:214\u001b[0m, in \u001b[0;36mvalidate_params.<locals>.decorator.<locals>.wrapper\u001b[0;34m(*args, **kwargs)\u001b[0m\n\u001b[1;32m    208\u001b[0m \u001b[38;5;28;01mtry\u001b[39;00m:\n\u001b[1;32m    209\u001b[0m     \u001b[38;5;28;01mwith\u001b[39;00m config_context(\n\u001b[1;32m    210\u001b[0m         skip_parameter_validation\u001b[38;5;241m=\u001b[39m(\n\u001b[1;32m    211\u001b[0m             prefer_skip_nested_validation \u001b[38;5;129;01mor\u001b[39;00m global_skip_validation\n\u001b[1;32m    212\u001b[0m         )\n\u001b[1;32m    213\u001b[0m     ):\n\u001b[0;32m--> 214\u001b[0m         \u001b[38;5;28;01mreturn\u001b[39;00m \u001b[43mfunc\u001b[49m\u001b[43m(\u001b[49m\u001b[38;5;241;43m*\u001b[39;49m\u001b[43margs\u001b[49m\u001b[43m,\u001b[49m\u001b[43m \u001b[49m\u001b[38;5;241;43m*\u001b[39;49m\u001b[38;5;241;43m*\u001b[39;49m\u001b[43mkwargs\u001b[49m\u001b[43m)\u001b[49m\n\u001b[1;32m    215\u001b[0m \u001b[38;5;28;01mexcept\u001b[39;00m InvalidParameterError \u001b[38;5;28;01mas\u001b[39;00m e:\n\u001b[1;32m    216\u001b[0m     \u001b[38;5;66;03m# When the function is just a wrapper around an estimator, we allow\u001b[39;00m\n\u001b[1;32m    217\u001b[0m     \u001b[38;5;66;03m# the function to delegate validation to the estimator, but we replace\u001b[39;00m\n\u001b[1;32m    218\u001b[0m     \u001b[38;5;66;03m# the name of the estimator by the name of the function in the error\u001b[39;00m\n\u001b[1;32m    219\u001b[0m     \u001b[38;5;66;03m# message to avoid confusion.\u001b[39;00m\n\u001b[1;32m    220\u001b[0m     msg \u001b[38;5;241m=\u001b[39m re\u001b[38;5;241m.\u001b[39msub(\n\u001b[1;32m    221\u001b[0m         \u001b[38;5;124mr\u001b[39m\u001b[38;5;124m\"\u001b[39m\u001b[38;5;124mparameter of \u001b[39m\u001b[38;5;124m\\\u001b[39m\u001b[38;5;124mw+ must be\u001b[39m\u001b[38;5;124m\"\u001b[39m,\n\u001b[1;32m    222\u001b[0m         \u001b[38;5;124mf\u001b[39m\u001b[38;5;124m\"\u001b[39m\u001b[38;5;124mparameter of \u001b[39m\u001b[38;5;132;01m{\u001b[39;00mfunc\u001b[38;5;241m.\u001b[39m\u001b[38;5;18m__qualname__\u001b[39m\u001b[38;5;132;01m}\u001b[39;00m\u001b[38;5;124m must be\u001b[39m\u001b[38;5;124m\"\u001b[39m,\n\u001b[1;32m    223\u001b[0m         \u001b[38;5;28mstr\u001b[39m(e),\n\u001b[1;32m    224\u001b[0m     )\n",
      "File \u001b[0;32m~/anaconda3/envs/my_env/lib/python3.12/site-packages/sklearn/metrics/_classification.py:2395\u001b[0m, in \u001b[0;36mbalanced_accuracy_score\u001b[0;34m(y_true, y_pred, sample_weight, adjusted)\u001b[0m\n\u001b[1;32m   2317\u001b[0m \u001b[38;5;129m@validate_params\u001b[39m(\n\u001b[1;32m   2318\u001b[0m     {\n\u001b[1;32m   2319\u001b[0m         \u001b[38;5;124m\"\u001b[39m\u001b[38;5;124my_true\u001b[39m\u001b[38;5;124m\"\u001b[39m: [\u001b[38;5;124m\"\u001b[39m\u001b[38;5;124marray-like\u001b[39m\u001b[38;5;124m\"\u001b[39m],\n\u001b[0;32m   (...)\u001b[0m\n\u001b[1;32m   2325\u001b[0m )\n\u001b[1;32m   2326\u001b[0m \u001b[38;5;28;01mdef\u001b[39;00m \u001b[38;5;21mbalanced_accuracy_score\u001b[39m(y_true, y_pred, \u001b[38;5;241m*\u001b[39m, sample_weight\u001b[38;5;241m=\u001b[39m\u001b[38;5;28;01mNone\u001b[39;00m, adjusted\u001b[38;5;241m=\u001b[39m\u001b[38;5;28;01mFalse\u001b[39;00m):\n\u001b[1;32m   2327\u001b[0m \u001b[38;5;250m    \u001b[39m\u001b[38;5;124;03m\"\"\"Compute the balanced accuracy.\u001b[39;00m\n\u001b[1;32m   2328\u001b[0m \n\u001b[1;32m   2329\u001b[0m \u001b[38;5;124;03m    The balanced accuracy in binary and multiclass classification problems to\u001b[39;00m\n\u001b[0;32m   (...)\u001b[0m\n\u001b[1;32m   2393\u001b[0m \u001b[38;5;124;03m    0.625\u001b[39;00m\n\u001b[1;32m   2394\u001b[0m \u001b[38;5;124;03m    \"\"\"\u001b[39;00m\n\u001b[0;32m-> 2395\u001b[0m     C \u001b[38;5;241m=\u001b[39m \u001b[43mconfusion_matrix\u001b[49m\u001b[43m(\u001b[49m\u001b[43my_true\u001b[49m\u001b[43m,\u001b[49m\u001b[43m \u001b[49m\u001b[43my_pred\u001b[49m\u001b[43m,\u001b[49m\u001b[43m \u001b[49m\u001b[43msample_weight\u001b[49m\u001b[38;5;241;43m=\u001b[39;49m\u001b[43msample_weight\u001b[49m\u001b[43m)\u001b[49m\n\u001b[1;32m   2396\u001b[0m     \u001b[38;5;28;01mwith\u001b[39;00m np\u001b[38;5;241m.\u001b[39merrstate(divide\u001b[38;5;241m=\u001b[39m\u001b[38;5;124m\"\u001b[39m\u001b[38;5;124mignore\u001b[39m\u001b[38;5;124m\"\u001b[39m, invalid\u001b[38;5;241m=\u001b[39m\u001b[38;5;124m\"\u001b[39m\u001b[38;5;124mignore\u001b[39m\u001b[38;5;124m\"\u001b[39m):\n\u001b[1;32m   2397\u001b[0m         per_class \u001b[38;5;241m=\u001b[39m np\u001b[38;5;241m.\u001b[39mdiag(C) \u001b[38;5;241m/\u001b[39m C\u001b[38;5;241m.\u001b[39msum(axis\u001b[38;5;241m=\u001b[39m\u001b[38;5;241m1\u001b[39m)\n",
      "File \u001b[0;32m~/anaconda3/envs/my_env/lib/python3.12/site-packages/sklearn/utils/_param_validation.py:187\u001b[0m, in \u001b[0;36mvalidate_params.<locals>.decorator.<locals>.wrapper\u001b[0;34m(*args, **kwargs)\u001b[0m\n\u001b[1;32m    185\u001b[0m global_skip_validation \u001b[38;5;241m=\u001b[39m get_config()[\u001b[38;5;124m\"\u001b[39m\u001b[38;5;124mskip_parameter_validation\u001b[39m\u001b[38;5;124m\"\u001b[39m]\n\u001b[1;32m    186\u001b[0m \u001b[38;5;28;01mif\u001b[39;00m global_skip_validation:\n\u001b[0;32m--> 187\u001b[0m     \u001b[38;5;28;01mreturn\u001b[39;00m \u001b[43mfunc\u001b[49m\u001b[43m(\u001b[49m\u001b[38;5;241;43m*\u001b[39;49m\u001b[43margs\u001b[49m\u001b[43m,\u001b[49m\u001b[43m \u001b[49m\u001b[38;5;241;43m*\u001b[39;49m\u001b[38;5;241;43m*\u001b[39;49m\u001b[43mkwargs\u001b[49m\u001b[43m)\u001b[49m\n\u001b[1;32m    189\u001b[0m func_sig \u001b[38;5;241m=\u001b[39m signature(func)\n\u001b[1;32m    191\u001b[0m \u001b[38;5;66;03m# Map *args/**kwargs to the function signature\u001b[39;00m\n",
      "File \u001b[0;32m~/anaconda3/envs/my_env/lib/python3.12/site-packages/sklearn/metrics/_classification.py:326\u001b[0m, in \u001b[0;36mconfusion_matrix\u001b[0;34m(y_true, y_pred, labels, sample_weight, normalize)\u001b[0m\n\u001b[1;32m    231\u001b[0m \u001b[38;5;129m@validate_params\u001b[39m(\n\u001b[1;32m    232\u001b[0m     {\n\u001b[1;32m    233\u001b[0m         \u001b[38;5;124m\"\u001b[39m\u001b[38;5;124my_true\u001b[39m\u001b[38;5;124m\"\u001b[39m: [\u001b[38;5;124m\"\u001b[39m\u001b[38;5;124marray-like\u001b[39m\u001b[38;5;124m\"\u001b[39m],\n\u001b[0;32m   (...)\u001b[0m\n\u001b[1;32m    242\u001b[0m     y_true, y_pred, \u001b[38;5;241m*\u001b[39m, labels\u001b[38;5;241m=\u001b[39m\u001b[38;5;28;01mNone\u001b[39;00m, sample_weight\u001b[38;5;241m=\u001b[39m\u001b[38;5;28;01mNone\u001b[39;00m, normalize\u001b[38;5;241m=\u001b[39m\u001b[38;5;28;01mNone\u001b[39;00m\n\u001b[1;32m    243\u001b[0m ):\n\u001b[1;32m    244\u001b[0m \u001b[38;5;250m    \u001b[39m\u001b[38;5;124;03m\"\"\"Compute confusion matrix to evaluate the accuracy of a classification.\u001b[39;00m\n\u001b[1;32m    245\u001b[0m \n\u001b[1;32m    246\u001b[0m \u001b[38;5;124;03m    By definition a confusion matrix :math:`C` is such that :math:`C_{i, j}`\u001b[39;00m\n\u001b[0;32m   (...)\u001b[0m\n\u001b[1;32m    324\u001b[0m \u001b[38;5;124;03m    (0, 2, 1, 1)\u001b[39;00m\n\u001b[1;32m    325\u001b[0m \u001b[38;5;124;03m    \"\"\"\u001b[39;00m\n\u001b[0;32m--> 326\u001b[0m     y_type, y_true, y_pred \u001b[38;5;241m=\u001b[39m \u001b[43m_check_targets\u001b[49m\u001b[43m(\u001b[49m\u001b[43my_true\u001b[49m\u001b[43m,\u001b[49m\u001b[43m \u001b[49m\u001b[43my_pred\u001b[49m\u001b[43m)\u001b[49m\n\u001b[1;32m    327\u001b[0m     \u001b[38;5;28;01mif\u001b[39;00m y_type \u001b[38;5;129;01mnot\u001b[39;00m \u001b[38;5;129;01min\u001b[39;00m (\u001b[38;5;124m\"\u001b[39m\u001b[38;5;124mbinary\u001b[39m\u001b[38;5;124m\"\u001b[39m, \u001b[38;5;124m\"\u001b[39m\u001b[38;5;124mmulticlass\u001b[39m\u001b[38;5;124m\"\u001b[39m):\n\u001b[1;32m    328\u001b[0m         \u001b[38;5;28;01mraise\u001b[39;00m \u001b[38;5;167;01mValueError\u001b[39;00m(\u001b[38;5;124m\"\u001b[39m\u001b[38;5;132;01m%s\u001b[39;00m\u001b[38;5;124m is not supported\u001b[39m\u001b[38;5;124m\"\u001b[39m \u001b[38;5;241m%\u001b[39m y_type)\n",
      "File \u001b[0;32m~/anaconda3/envs/my_env/lib/python3.12/site-packages/sklearn/metrics/_classification.py:84\u001b[0m, in \u001b[0;36m_check_targets\u001b[0;34m(y_true, y_pred)\u001b[0m\n\u001b[1;32m     57\u001b[0m \u001b[38;5;28;01mdef\u001b[39;00m \u001b[38;5;21m_check_targets\u001b[39m(y_true, y_pred):\n\u001b[1;32m     58\u001b[0m \u001b[38;5;250m    \u001b[39m\u001b[38;5;124;03m\"\"\"Check that y_true and y_pred belong to the same classification task.\u001b[39;00m\n\u001b[1;32m     59\u001b[0m \n\u001b[1;32m     60\u001b[0m \u001b[38;5;124;03m    This converts multiclass or binary types to a common shape, and raises a\u001b[39;00m\n\u001b[0;32m   (...)\u001b[0m\n\u001b[1;32m     82\u001b[0m \u001b[38;5;124;03m    y_pred : array or indicator matrix\u001b[39;00m\n\u001b[1;32m     83\u001b[0m \u001b[38;5;124;03m    \"\"\"\u001b[39;00m\n\u001b[0;32m---> 84\u001b[0m     \u001b[43mcheck_consistent_length\u001b[49m\u001b[43m(\u001b[49m\u001b[43my_true\u001b[49m\u001b[43m,\u001b[49m\u001b[43m \u001b[49m\u001b[43my_pred\u001b[49m\u001b[43m)\u001b[49m\n\u001b[1;32m     85\u001b[0m     type_true \u001b[38;5;241m=\u001b[39m type_of_target(y_true, input_name\u001b[38;5;241m=\u001b[39m\u001b[38;5;124m\"\u001b[39m\u001b[38;5;124my_true\u001b[39m\u001b[38;5;124m\"\u001b[39m)\n\u001b[1;32m     86\u001b[0m     type_pred \u001b[38;5;241m=\u001b[39m type_of_target(y_pred, input_name\u001b[38;5;241m=\u001b[39m\u001b[38;5;124m\"\u001b[39m\u001b[38;5;124my_pred\u001b[39m\u001b[38;5;124m\"\u001b[39m)\n",
      "File \u001b[0;32m~/anaconda3/envs/my_env/lib/python3.12/site-packages/sklearn/utils/validation.py:407\u001b[0m, in \u001b[0;36mcheck_consistent_length\u001b[0;34m(*arrays)\u001b[0m\n\u001b[1;32m    405\u001b[0m uniques \u001b[38;5;241m=\u001b[39m np\u001b[38;5;241m.\u001b[39munique(lengths)\n\u001b[1;32m    406\u001b[0m \u001b[38;5;28;01mif\u001b[39;00m \u001b[38;5;28mlen\u001b[39m(uniques) \u001b[38;5;241m>\u001b[39m \u001b[38;5;241m1\u001b[39m:\n\u001b[0;32m--> 407\u001b[0m     \u001b[38;5;28;01mraise\u001b[39;00m \u001b[38;5;167;01mValueError\u001b[39;00m(\n\u001b[1;32m    408\u001b[0m         \u001b[38;5;124m\"\u001b[39m\u001b[38;5;124mFound input variables with inconsistent numbers of samples: \u001b[39m\u001b[38;5;132;01m%r\u001b[39;00m\u001b[38;5;124m\"\u001b[39m\n\u001b[1;32m    409\u001b[0m         \u001b[38;5;241m%\u001b[39m [\u001b[38;5;28mint\u001b[39m(l) \u001b[38;5;28;01mfor\u001b[39;00m l \u001b[38;5;129;01min\u001b[39;00m lengths]\n\u001b[1;32m    410\u001b[0m     )\n",
      "\u001b[0;31mValueError\u001b[0m: Found input variables with inconsistent numbers of samples: [45, 397]"
     ]
    }
   ],
   "source": [
    "#apply 10 fold cross validation\n",
    "from sklearn.ensemble import RandomForestClassifier\n",
    "from sklearn.model_selection import cross_val_score\n",
    "from sklearn.model_selection import StratifiedKFold\n",
    "from sklearn.model_selection import KFold\n",
    "from sklearn.model_selection import cross_val_predict\n",
    "from sklearn.metrics import confusion_matrix\n",
    "from sklearn.metrics import classification_report\n",
    "from sklearn.metrics import balanced_accuracy_score\n",
    "\n",
    "\n",
    "cv = StratifiedKFold(n_splits=10, random_state=1, shuffle=True)\n",
    "rf = RandomForestClassifier(n_estimators=100, max_depth=2, random_state=0)\n",
    "scores = cross_val_score(rf, X_train, y_train, cv=cv, scoring='accuracy')\n",
    "y_pred = cross_val_predict(rf, X_train, y_train, cv=cv)\n",
    "print('Accuracy:', np.mean(scores))\n",
    "print('Balanced Accuracy:', balanced_accuracy_score(y_test, y_pred))\n",
    "print(confusion_matrix(y_test, y_pred))\n"
   ]
  },
  {
   "cell_type": "code",
   "execution_count": null,
   "metadata": {},
   "outputs": [
    {
     "ename": "NameError",
     "evalue": "name 'X_train' is not defined",
     "output_type": "error",
     "traceback": [
      "\u001b[0;31m---------------------------------------------------------------------------\u001b[0m",
      "\u001b[0;31mNameError\u001b[0m                                 Traceback (most recent call last)",
      "Cell \u001b[0;32mIn[1], line 4\u001b[0m\n\u001b[1;32m      2\u001b[0m \u001b[38;5;28;01mfrom\u001b[39;00m \u001b[38;5;21;01msklearn\u001b[39;00m\u001b[38;5;21;01m.\u001b[39;00m\u001b[38;5;21;01mneural_network\u001b[39;00m \u001b[38;5;28;01mimport\u001b[39;00m MLPClassifier\n\u001b[1;32m      3\u001b[0m mlp \u001b[38;5;241m=\u001b[39m MLPClassifier(hidden_layer_sizes\u001b[38;5;241m=\u001b[39m(\u001b[38;5;241m100\u001b[39m, \u001b[38;5;241m100\u001b[39m), max_iter\u001b[38;5;241m=\u001b[39m\u001b[38;5;241m1000\u001b[39m)\n\u001b[0;32m----> 4\u001b[0m mlp\u001b[38;5;241m.\u001b[39mfit(\u001b[43mX_train\u001b[49m, y_train)\n\u001b[1;32m      5\u001b[0m y_pred \u001b[38;5;241m=\u001b[39m mlp\u001b[38;5;241m.\u001b[39mpredict(X_test)\n\u001b[1;32m      6\u001b[0m y_pred_proba \u001b[38;5;241m=\u001b[39m mlp\u001b[38;5;241m.\u001b[39mpredict_proba(X_test)[:,\u001b[38;5;241m1\u001b[39m]\n",
      "\u001b[0;31mNameError\u001b[0m: name 'X_train' is not defined"
     ]
    }
   ],
   "source": [
    "\n"
   ]
  }
 ],
 "metadata": {
  "kernelspec": {
   "display_name": "my_env",
   "language": "python",
   "name": "python3"
  },
  "language_info": {
   "codemirror_mode": {
    "name": "ipython",
    "version": 3
   },
   "file_extension": ".py",
   "mimetype": "text/x-python",
   "name": "python",
   "nbconvert_exporter": "python",
   "pygments_lexer": "ipython3",
   "version": "3.12.1"
  }
 },
 "nbformat": 4,
 "nbformat_minor": 2
}
